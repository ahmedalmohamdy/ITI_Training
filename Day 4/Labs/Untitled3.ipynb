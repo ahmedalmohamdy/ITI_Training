{
  "nbformat": 4,
  "nbformat_minor": 0,
  "metadata": {
    "colab": {
      "provenance": []
    },
    "kernelspec": {
      "name": "python3",
      "display_name": "Python 3"
    },
    "language_info": {
      "name": "python"
    }
  },
  "cells": [
    {
      "cell_type": "markdown",
      "source": [
        "problem 1\n",
        "\n"
      ],
      "metadata": {
        "id": "AqdU8xQHB3Yk"
      }
    },
    {
      "cell_type": "code",
      "execution_count": 9,
      "metadata": {
        "id": "zwoGyh1qtGpu"
      },
      "outputs": [],
      "source": [
        "class Vehicle:\n",
        "    def __init__(self, max_speed, mileage):\n",
        "        self.max_speed = max_speed\n",
        "        self.mileage = mileage\n"
      ]
    },
    {
      "cell_type": "markdown",
      "source": [
        "problem 2"
      ],
      "metadata": {
        "id": "zG_QNwbnCYpz"
      }
    },
    {
      "cell_type": "code",
      "source": [
        "class Vehicle:\n",
        "\n",
        "    def __init__(self, name, max_speed, mileage):\n",
        "        self.name = name\n",
        "        self.max_speed = max_speed\n",
        "        self.mileage = mileage\n",
        "\n",
        "class Bus(Vehicle):\n",
        "    pass\n"
      ],
      "metadata": {
        "id": "2zvNbZLZCcUE"
      },
      "execution_count": 8,
      "outputs": []
    },
    {
      "cell_type": "markdown",
      "source": [
        "problem 3"
      ],
      "metadata": {
        "id": "pITBXySJD-Kd"
      }
    },
    {
      "cell_type": "code",
      "source": [
        "def seating_capacity(self, capacity):\n",
        "        return f\"The seating capacity of a {self.name} is {capacity} passengers\"\n",
        "  "
      ],
      "metadata": {
        "id": "K6_8qxaCEBWZ"
      },
      "execution_count": 7,
      "outputs": []
    },
    {
      "cell_type": "markdown",
      "source": [
        "problem 4"
      ],
      "metadata": {
        "id": "f_EuvByrFCkh"
      }
    },
    {
      "cell_type": "code",
      "source": [
        "class bus(Vehicle):\n",
        "    \n",
        "    def seating_capacity(self, capacity=50):\n",
        "        return f\"The seating capacity of a {self.name} is {capacity} passengers\""
      ],
      "metadata": {
        "id": "wpg65uejFFMJ"
      },
      "execution_count": 12,
      "outputs": []
    },
    {
      "cell_type": "markdown",
      "source": [
        "problem 5"
      ],
      "metadata": {
        "id": "LJ5ykobAG3Qg"
      }
    },
    {
      "cell_type": "code",
      "source": [
        "def seating_capacity(capacity =50):\n",
        "  return f\"The seating capacity of a {self.name} is {capacity} passengers\"\n",
        "\n"
      ],
      "metadata": {
        "id": "gdD5gu8-G7z_"
      },
      "execution_count": 16,
      "outputs": []
    },
    {
      "cell_type": "markdown",
      "source": [
        "problem 6"
      ],
      "metadata": {
        "id": "4Wqvxtu5LK53"
      }
    },
    {
      "cell_type": "code",
      "source": [
        "def fare():\n",
        "  fare = self.capacity *100\n",
        "  return fare  "
      ],
      "metadata": {
        "id": "7c6mXuuZLNd2"
      },
      "execution_count": 14,
      "outputs": []
    }
  ]
}