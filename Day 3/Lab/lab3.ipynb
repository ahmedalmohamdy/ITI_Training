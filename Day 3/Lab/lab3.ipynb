{
  "nbformat": 4,
  "nbformat_minor": 0,
  "metadata": {
    "colab": {
      "provenance": []
    },
    "kernelspec": {
      "name": "python3",
      "display_name": "Python 3"
    },
    "language_info": {
      "name": "python"
    }
  },
  "cells": [
    {
      "cell_type": "markdown",
      "source": [
        "problem 1"
      ],
      "metadata": {
        "id": "hCmEiz8nE2qx"
      }
    },
    {
      "cell_type": "code",
      "execution_count": 14,
      "metadata": {
        "colab": {
          "base_uri": "https://localhost:8080/"
        },
        "id": "t6hg9jND4zS8",
        "outputId": "a1fe4e4a-d082-4212-f8b5-912c1e8ed6ef"
      },
      "outputs": [
        {
          "output_type": "stream",
          "name": "stdout",
          "text": [
            "enter the number 534354343453545353\n",
            "3\n"
          ]
        }
      ],
      "source": [
        "x=input(\"enter the number \")\n",
        "print(x[-1])"
      ]
    },
    {
      "cell_type": "markdown",
      "source": [
        "problem 2"
      ],
      "metadata": {
        "id": "SDIh2oxlE9jH"
      }
    },
    {
      "cell_type": "code",
      "source": [
        "\n",
        "\n",
        "x=input(\"enter the number \")\n",
        "a=x[-1]\n",
        "if int(a) %3==0:\n",
        " print(\"the last digit of a number is divisible by 3\")\n",
        "elif int(a) %3!=0 :\n",
        "   print(\"the last digit of a number is not divisible by 3\")\n",
        " \n",
        "     "
      ],
      "metadata": {
        "colab": {
          "base_uri": "https://localhost:8080/"
        },
        "id": "kZ6O_o9NFBAj",
        "outputId": "7a0d3e94-590b-4ee4-e047-ae59e464e458"
      },
      "execution_count": 23,
      "outputs": [
        {
          "output_type": "stream",
          "name": "stdout",
          "text": [
            "enter the number 525249\n",
            "the last digit of a number is divisible by 3\n"
          ]
        }
      ]
    },
    {
      "cell_type": "markdown",
      "source": [],
      "metadata": {
        "id": "70Uu5BdcHuSG"
      }
    },
    {
      "cell_type": "markdown",
      "source": [
        "problem 3"
      ],
      "metadata": {
        "id": "hY3Qg5EQIMFm"
      }
    },
    {
      "cell_type": "code",
      "source": [
        "while True:\n",
        "  a=int(input(\" enter the number \"))\n",
        "  if a==1:\n",
        "    print(\"sunday\")\n",
        "  elif a==2:\n",
        "    print(\"Monday\")\n",
        "  elif a==3:\n",
        "    print(\"Tuesday\")\n",
        "  elif a==4:\n",
        "    print(\"Wednesday\")\n",
        "  elif a==5:\n",
        "    print(\"Thursday\")\n",
        "  elif a==6:\n",
        "    print(\"Fridayy\")\n",
        "  elif a==7:\n",
        "    print(\"satrday\")\n",
        "  else:\n",
        "    break  "
      ],
      "metadata": {
        "colab": {
          "base_uri": "https://localhost:8080/"
        },
        "id": "QCMFD555IO4G",
        "outputId": "ee7d132b-8485-4289-fd79-de3e63577b54"
      },
      "execution_count": 26,
      "outputs": [
        {
          "name": "stdout",
          "output_type": "stream",
          "text": [
            " enter the number 1\n",
            "sunday\n",
            " enter the number 2\n",
            "Monday\n",
            " enter the number 3\n",
            "Tuesday\n",
            " enter the number 4\n",
            "Wednesday\n",
            " enter the number 5\n",
            "Thursday\n",
            " enter the number 6\n",
            "Fridayy\n",
            " enter the number 7\n",
            "satrday\n",
            " enter the number 8\n"
          ]
        }
      ]
    },
    {
      "cell_type": "markdown",
      "source": [
        "problem 4"
      ],
      "metadata": {
        "id": "X1cckZyvKnt-"
      }
    },
    {
      "cell_type": "code",
      "source": [
        "ch = input(\"Enter a character: \")\n",
        "\n",
        "if(ch=='A' or ch=='a' or ch=='E' or ch =='e' or ch=='I'\n",
        " or ch=='i' or ch=='O' or ch=='o' or ch=='U' or ch=='u'):\n",
        "    print(ch, \"is a Vowel\")\n",
        "else:\n",
        "    print(ch, \"is not vowel\")"
      ],
      "metadata": {
        "colab": {
          "base_uri": "https://localhost:8080/"
        },
        "id": "2AgZIzEDKq4h",
        "outputId": "a8809f0c-8d70-4ea8-aabe-94b0b82c3905"
      },
      "execution_count": 28,
      "outputs": [
        {
          "output_type": "stream",
          "name": "stdout",
          "text": [
            "Enter a character: b\n",
            "b is not vowel\n"
          ]
        }
      ]
    },
    {
      "cell_type": "markdown",
      "source": [
        "problem 5"
      ],
      "metadata": {
        "id": "IpCEKm5WLhsN"
      }
    },
    {
      "cell_type": "code",
      "source": [
        "x=int(input(\"enter the price \"))\n",
        "if x> 10000:\n",
        "   Net_amount =x-((20/100)*x)\n",
        "   print(f\"the net amount is {Net_amount}\")\n",
        "elif x> 7000 and x<=10000:\n",
        "   Net_amount =x-((15/100)*x)\n",
        "   print(f\"the net amount is {Net_amount}\")     \n",
        "elif  x<=7000:\n",
        "   Net_amount =x-((10/100)*x)\n",
        "   print(f\"the net amount is {Net_amount}\")    \n"
      ],
      "metadata": {
        "colab": {
          "base_uri": "https://localhost:8080/"
        },
        "id": "65b8U2PXLkJF",
        "outputId": "5817cda2-f13b-4a5e-e98e-62ca0d569888"
      },
      "execution_count": 30,
      "outputs": [
        {
          "output_type": "stream",
          "name": "stdout",
          "text": [
            "enter the price 215161\n",
            "the net amount is 172128.8\n"
          ]
        }
      ]
    },
    {
      "cell_type": "markdown",
      "source": [
        "problem 6"
      ],
      "metadata": {
        "id": "3nQ016xTOiCc"
      }
    },
    {
      "cell_type": "code",
      "source": [
        "x = [10, 20, 30, 40, 50, 60, 70, 80, 90, 100]\n",
        "for i in range(10) :\n",
        "  if i==0:\n",
        "    continue\n",
        "  elif i%2==0:\n",
        "    continue\n",
        "  else:     \n",
        "    print(x[i])\n",
        " \n"
      ],
      "metadata": {
        "colab": {
          "base_uri": "https://localhost:8080/"
        },
        "id": "AmgmrFFNOkNn",
        "outputId": "74c2c766-4819-4113-885c-d8a16818860e"
      },
      "execution_count": 47,
      "outputs": [
        {
          "output_type": "stream",
          "name": "stdout",
          "text": [
            "20\n",
            "40\n",
            "60\n",
            "80\n",
            "100\n"
          ]
        }
      ]
    },
    {
      "cell_type": "markdown",
      "source": [
        "problem 7"
      ],
      "metadata": {
        "id": "-PbInxlXUria"
      }
    },
    {
      "cell_type": "code",
      "source": [
        "rows = 4\n",
        "for i in range(1, rows + 1):\n",
        "    for j in range(1, i + 1):\n",
        "        print(j, end=' ')\n",
        "    print('')"
      ],
      "metadata": {
        "colab": {
          "base_uri": "https://localhost:8080/"
        },
        "id": "Ib4B9nD-Ut1U",
        "outputId": "3406b759-f538-4de0-e7b9-4b9624a5c958"
      },
      "execution_count": 61,
      "outputs": [
        {
          "output_type": "stream",
          "name": "stdout",
          "text": [
            "1 \n",
            "1 2 \n",
            "1 2 3 \n",
            "1 2 3 4 \n"
          ]
        }
      ]
    },
    {
      "cell_type": "markdown",
      "source": [
        "problem 8"
      ],
      "metadata": {
        "id": "e3_x8DO8Z4rR"
      }
    },
    {
      "cell_type": "code",
      "source": [
        "sum=0\n",
        "num=0\n",
        "while True:\n",
        "  x=int(input(\"enter the  number : \"))\n",
        "  if x !=0 :\n",
        "    sum+=x\n",
        "    num+=1\n",
        "  elif x==0:\n",
        "    print(f\"the sum is {sum}\") \n",
        "    print(f\"the avrg is {sum/num}\")\n",
        "    break  \n"
      ],
      "metadata": {
        "colab": {
          "base_uri": "https://localhost:8080/"
        },
        "id": "QcmIsuhbZ63T",
        "outputId": "33e4ce8f-774c-4429-f30b-5f4a6ead4a9b"
      },
      "execution_count": 64,
      "outputs": [
        {
          "output_type": "stream",
          "name": "stdout",
          "text": [
            "enter the  number : 5\n",
            "enter the  number : 4\n",
            "enter the  number : 3\n",
            "enter the  number : 1\n",
            "enter the  number : 0\n",
            "the sum is 13\n",
            "the avrg is 3.25\n"
          ]
        }
      ]
    },
    {
      "cell_type": "markdown",
      "source": [
        "problem 9"
      ],
      "metadata": {
        "id": "mldO4yWscAPv"
      }
    },
    {
      "cell_type": "code",
      "source": [
        "x=4\n",
        "y=[x]\n",
        "while x<30 :\n",
        "  x+=2\n",
        "  y.append(x)\n",
        "print(y)  \n",
        "\n"
      ],
      "metadata": {
        "colab": {
          "base_uri": "https://localhost:8080/"
        },
        "id": "kPv81jvAcCeP",
        "outputId": "4b1efaaa-39c3-418d-cb90-b911d4c9af46"
      },
      "execution_count": 69,
      "outputs": [
        {
          "output_type": "stream",
          "name": "stdout",
          "text": [
            "[4, 6, 8, 10, 12, 14, 16, 18, 20, 22, 24, 26, 28, 30]\n"
          ]
        }
      ]
    },
    {
      "cell_type": "markdown",
      "source": [
        "problem 10 "
      ],
      "metadata": {
        "id": "ce2YHNBvedxI"
      }
    },
    {
      "cell_type": "code",
      "source": [
        "x=[100,30,22,40,60,20,10,300]\n",
        "max =x[0]\n",
        "min =x[0]\n",
        "for i in x :\n",
        "  if i > max:\n",
        "    max =i\n",
        "  elif i < min :\n",
        "    min = i\n",
        "print(f\"the max item is {max} and the min item is {min}\")\n"
      ],
      "metadata": {
        "colab": {
          "base_uri": "https://localhost:8080/"
        },
        "id": "ggyGWpY4egep",
        "outputId": "d495d628-122c-4f8d-a93e-5a47ecf57aaf"
      },
      "execution_count": 76,
      "outputs": [
        {
          "output_type": "stream",
          "name": "stdout",
          "text": [
            "the max item is 300 and the min item is 10\n"
          ]
        }
      ]
    }
  ]
}